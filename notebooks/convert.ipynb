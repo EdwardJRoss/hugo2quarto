{
 "cells": [
  {
   "cell_type": "markdown",
   "metadata": {},
   "source": [
    "# Convert Hugo to Quarto\n",
    "\n",
    "This notebook looks into exporting the majority of `.mmark` posts for Quarto."
   ]
  },
  {
   "cell_type": "markdown",
   "metadata": {},
   "source": [
    "# Get the data"
   ]
  },
  {
   "cell_type": "code",
   "execution_count": 1,
   "metadata": {},
   "outputs": [],
   "source": [
    "from pathlib import Path \n",
    "\n",
    "input_dir = Path('../data')\n",
    "output_dir = Path('../output')"
   ]
  },
  {
   "cell_type": "markdown",
   "metadata": {},
   "source": [
    "Clean out the input and output directories"
   ]
  },
  {
   "cell_type": "code",
   "execution_count": 2,
   "metadata": {},
   "outputs": [],
   "source": [
    "!rm -rf {input_dir}\n",
    "!rm -rf {output_dir}"
   ]
  },
  {
   "cell_type": "markdown",
   "metadata": {},
   "source": [
    "Clone the latest Hugo version of the repository"
   ]
  },
  {
   "cell_type": "code",
   "execution_count": 3,
   "metadata": {},
   "outputs": [
    {
     "name": "stdout",
     "output_type": "stream",
     "text": [
      "Cloning into '../data'...\n",
      "remote: Enumerating objects: 1223, done.\u001b[K\n",
      "remote: Counting objects: 100% (1223/1223), done.\u001b[K\n",
      "remote: Compressing objects: 100% (1184/1184), done.\u001b[K\n",
      "remote: Total 1223 (delta 21), reused 1070 (delta 18), pack-reused 0\u001b[K\n",
      "Receiving objects: 100% (1223/1223), 48.29 MiB | 6.07 MiB/s, done.\n",
      "Resolving deltas: 100% (21/21), done.\n",
      "Note: switching to '396f3a5218deb5ed0a811d232bb22a808d78543e'.\n",
      "\n",
      "You are in 'detached HEAD' state. You can look around, make experimental\n",
      "changes and commit them, and you can discard any commits you make in this\n",
      "state without impacting any branches by switching back to a branch.\n",
      "\n",
      "If you want to create a new branch to retain commits you create, you may\n",
      "do so (now or later) by using -c with the switch command. Example:\n",
      "\n",
      "  git switch -c <new-branch-name>\n",
      "\n",
      "Or undo this operation with:\n",
      "\n",
      "  git switch -\n",
      "\n",
      "Turn off this advice by setting config variable advice.detachedHead to false\n",
      "\n"
     ]
    }
   ],
   "source": [
    "!git clone --branch hugo-eol --depth 1 https://github.com/EdwardJRoss/skeptric.git {input_dir}"
   ]
  },
  {
   "cell_type": "markdown",
   "metadata": {},
   "source": [
    "Create a new blank quarto Blog"
   ]
  },
  {
   "cell_type": "code",
   "execution_count": 4,
   "metadata": {},
   "outputs": [
    {
     "name": "stdout",
     "output_type": "stream",
     "text": [
      "Creating project at \u001b[1m/home/eross/src/projects/hugo2quarto/output\u001b[22m:\n",
      "  - Created _quarto.yml\n",
      "  - Created .gitignore\n",
      "  - Created index.qmd\n",
      "  - Created posts/welcome/index.qmd\n",
      "  - Created posts/post-with-code/index.qmd\n",
      "  - Created about.qmd\n",
      "  - Created styles.css\n",
      "  - Created posts/_metadata.yml\n"
     ]
    }
   ],
   "source": [
    "!quarto create-project {output_dir} --type website:blog"
   ]
  },
  {
   "cell_type": "markdown",
   "metadata": {},
   "source": [
    "Because we want to store all posts in folders at the top level (rather than under posts) we need to update the listing `contents` on the home page appropriately."
   ]
  },
  {
   "cell_type": "code",
   "execution_count": 5,
   "metadata": {},
   "outputs": [],
   "source": [
    "!sed -i 's|contents: posts|contents: \"/*/*.md\"|' {output_dir}/index.qmd"
   ]
  },
  {
   "cell_type": "code",
   "execution_count": 6,
   "metadata": {},
   "outputs": [
    {
     "name": "stdout",
     "output_type": "stream",
     "text": [
      "---\n",
      "title: \"output\"\n",
      "listing:\n",
      "  contents: \"/*/*.md\"\n",
      "  sort: \"date desc\"\n",
      "  type: default\n",
      "  categories: true\n",
      "  sort-ui: false\n",
      "  filter-ui: false\n",
      "page-layout: full\n"
     ]
    }
   ],
   "source": [
    "!head ../output/index.qmd"
   ]
  },
  {
   "cell_type": "markdown",
   "metadata": {},
   "source": [
    "# Get the posts\n",
    "\n",
    "Most of the posts are individual files in content/post"
   ]
  },
  {
   "cell_type": "code",
   "execution_count": 7,
   "metadata": {},
   "outputs": [],
   "source": [
    "post_dir = (input_dir / \"content\") / \"post\""
   ]
  },
  {
   "cell_type": "code",
   "execution_count": 8,
   "metadata": {},
   "outputs": [
    {
     "data": {
      "text/plain": [
       "485"
      ]
     },
     "execution_count": 8,
     "metadata": {},
     "output_type": "execute_result"
    }
   ],
   "source": [
    "post_paths = sorted(post_dir.iterdir())\n",
    "len(post_paths)"
   ]
  },
  {
   "cell_type": "markdown",
   "metadata": {},
   "source": [
    "## Check the filetypes"
   ]
  },
  {
   "cell_type": "code",
   "execution_count": 9,
   "metadata": {},
   "outputs": [
    {
     "data": {
      "text/plain": [
       "'.mmark'"
      ]
     },
     "execution_count": 9,
     "metadata": {},
     "output_type": "execute_result"
    }
   ],
   "source": [
    "post_paths[0].suffix"
   ]
  },
  {
   "cell_type": "markdown",
   "metadata": {},
   "source": [
    "*Mostly* mmark files, with a few md and HTML and some Rmd files."
   ]
  },
  {
   "cell_type": "code",
   "execution_count": 10,
   "metadata": {},
   "outputs": [
    {
     "data": {
      "text/plain": [
       "Counter({'.mmark': 466, '.md': 12, '.Rmd': 3, '.html': 3, '.R': 1})"
      ]
     },
     "execution_count": 10,
     "metadata": {},
     "output_type": "execute_result"
    }
   ],
   "source": [
    "from collections import Counter\n",
    "\n",
    "Counter(p.suffix for p in post_paths)"
   ]
  },
  {
   "cell_type": "markdown",
   "metadata": {},
   "source": [
    "Let's look at the remaining files.\n",
    "The html files are actually output from the Rmd files."
   ]
  },
  {
   "cell_type": "code",
   "execution_count": 11,
   "metadata": {},
   "outputs": [
    {
     "name": "stdout",
     "output_type": "stream",
     "text": [
      "analytic-worth.md\n",
      "athena-r.md\n",
      "bayes_toy_coin.Rmd\n",
      "bayes_toy_coin.html\n",
      "blogdown.Rmd\n",
      "blogdown.html\n",
      "building-layered-api-with-fashion-mnist.md\n",
      "calculate-centroid-on-sphere.md\n",
      "duckworth-lewis.md\n",
      "fashion-mnist-with-prototype-methods.md\n",
      "hackernews-dataset-eda.md\n",
      "jupyter-hugo-blog.md\n",
      "lower-precision.md\n",
      "monad-by-example.md\n",
      "peeling-fastai-layered-api-with-fashion-mnist.md\n",
      "plotting-bayesian-parameters-tidyverse.Rmd\n",
      "plotting-bayesian-parameters-tidyverse.html\n",
      "rule-of-five.R\n",
      "sentencetransformers-to-tensorflow.md\n"
     ]
    }
   ],
   "source": [
    "for p in post_paths:\n",
    "    if p.suffix != '.mmark':\n",
    "        print(p.name)"
   ]
  },
  {
   "cell_type": "markdown",
   "metadata": {},
   "source": [
    "Some (but not all) of the markdown posts are generated from Jupyter notebooks"
   ]
  },
  {
   "cell_type": "code",
   "execution_count": 12,
   "metadata": {},
   "outputs": [
    {
     "name": "stdout",
     "output_type": "stream",
     "text": [
      "building-layered-api-with-fashion-mnist.ipynb\n",
      "calculate-centroid-on-sphere.ipynb\n",
      "fashion-mnist-with-prototype-methods.ipynb\n",
      "hackernews-dataset-eda.ipynb\n",
      "jupyter-hugo-blog.ipynb\n",
      "peeling-fastai-layered-api-with-fashion-mnist.ipynb\n",
      "sentencetransformers-to-tensorflow.ipynb\n"
     ]
    }
   ],
   "source": [
    "!ls ../data/notebooks/"
   ]
  },
  {
   "cell_type": "code",
   "execution_count": 13,
   "metadata": {},
   "outputs": [
    {
     "name": "stdout",
     "output_type": "stream",
     "text": [
      "css\t     images\t\tnotebooks  posts      rmarkdown-libs\n",
      "favicon.ico  jupyter-hugo-blog\tpost\t   resources\n"
     ]
    }
   ],
   "source": [
    "!ls ../data/static/"
   ]
  },
  {
   "cell_type": "markdown",
   "metadata": {},
   "source": [
    "### Parsing frontmatter"
   ]
  },
  {
   "cell_type": "code",
   "execution_count": 14,
   "metadata": {},
   "outputs": [
    {
     "data": {
      "text/plain": [
       "PosixPath('../data/content/post/2020-headphones.mmark')"
      ]
     },
     "execution_count": 14,
     "metadata": {},
     "output_type": "execute_result"
    }
   ],
   "source": [
    "path = post_paths[0]\n",
    "path"
   ]
  },
  {
   "cell_type": "code",
   "execution_count": 15,
   "metadata": {},
   "outputs": [],
   "source": [
    "import frontmatter"
   ]
  },
  {
   "cell_type": "code",
   "execution_count": 16,
   "metadata": {},
   "outputs": [
    {
     "data": {
      "text/plain": [
       "frontmatter.Post"
      ]
     },
     "execution_count": 16,
     "metadata": {},
     "output_type": "execute_result"
    }
   ],
   "source": [
    "post = frontmatter.load(path)\n",
    "\n",
    "type(post)"
   ]
  },
  {
   "cell_type": "markdown",
   "metadata": {},
   "source": [
    "The most common keys are tags, title, date and feature_image"
   ]
  },
  {
   "cell_type": "code",
   "execution_count": 17,
   "metadata": {},
   "outputs": [
    {
     "data": {
      "text/plain": [
       "{'tags': ['tools'],\n",
       " 'title': 'Bluetooth Headphones in 2020',\n",
       " 'date': '2020-10-21T21:27:08+11:00',\n",
       " 'feature_image': '/images/jabra85h.jpg'}"
      ]
     },
     "execution_count": 17,
     "metadata": {},
     "output_type": "execute_result"
    }
   ],
   "source": [
    "dict(post)"
   ]
  },
  {
   "cell_type": "markdown",
   "metadata": {},
   "source": [
    "These are the most common keys by far"
   ]
  },
  {
   "cell_type": "code",
   "execution_count": 18,
   "metadata": {},
   "outputs": [
    {
     "data": {
      "text/plain": [
       "[('title', 484),\n",
       " ('date', 484),\n",
       " ('feature_image', 450),\n",
       " ('tags', 439),\n",
       " ('draft', 47),\n",
       " ('image', 14),\n",
       " ('categories', 6),\n",
       " ('description', 2),\n",
       " ('author', 2),\n",
       " ('output', 2),\n",
       " ('featured_image', 1),\n",
       " ('feature_image_url', 1),\n",
       " ('feature_source', 1)]"
      ]
     },
     "execution_count": 18,
     "metadata": {},
     "output_type": "execute_result"
    }
   ],
   "source": [
    "key_counter = Counter()\n",
    "for path in post_paths:\n",
    "    key_counter.update(frontmatter.load(path).keys())\n",
    "key_counter.most_common()"
   ]
  },
  {
   "cell_type": "markdown",
   "metadata": {},
   "source": [
    "The exceptions are mostly drafts or Rmd files."
   ]
  },
  {
   "cell_type": "code",
   "execution_count": 19,
   "metadata": {},
   "outputs": [
    {
     "data": {
      "text/plain": [
       "[('title', 424),\n",
       " ('date', 424),\n",
       " ('feature_image', 424),\n",
       " ('tags', 396),\n",
       " ('categories', 2),\n",
       " ('feature_image_url', 1),\n",
       " ('feature_source', 1),\n",
       " ('description', 1)]"
      ]
     },
     "execution_count": 19,
     "metadata": {},
     "output_type": "execute_result"
    }
   ],
   "source": [
    "key_counter = Counter()\n",
    "for path in post_paths:\n",
    "    meta = dict(frontmatter.load(path))\n",
    "    if path.suffix == '.mmark' and 'draft' not in meta:\n",
    "        key_counter.update(meta.keys())\n",
    "key_counter.most_common()"
   ]
  },
  {
   "cell_type": "markdown",
   "metadata": {},
   "source": [
    "We can convert these into the right tags for quarto"
   ]
  },
  {
   "cell_type": "code",
   "execution_count": 20,
   "metadata": {},
   "outputs": [],
   "source": [
    "meta_map = {\n",
    "    'title': 'title',\n",
    "    'date': 'date',\n",
    "    'feature_image': 'image',\n",
    "    'tags': 'categories',\n",
    "    'draft': 'draft',\n",
    "}"
   ]
  },
  {
   "cell_type": "code",
   "execution_count": 21,
   "metadata": {},
   "outputs": [
    {
     "data": {
      "text/plain": [
       "{'categories': ['tools'],\n",
       " 'title': 'Bluetooth Headphones in 2020',\n",
       " 'date': '2020-10-21T21:27:08+11:00',\n",
       " 'image': '/images/jabra85h.jpg'}"
      ]
     },
     "execution_count": 21,
     "metadata": {},
     "output_type": "execute_result"
    }
   ],
   "source": [
    "post_meta = {meta_map.get(k, k): v for k, v in dict(post).items()}\n",
    "\n",
    "post_meta"
   ]
  },
  {
   "cell_type": "markdown",
   "metadata": {},
   "source": [
    "We can use frontmatter to convert them to YAML."
   ]
  },
  {
   "cell_type": "code",
   "execution_count": 22,
   "metadata": {},
   "outputs": [
    {
     "name": "stdout",
     "output_type": "stream",
     "text": [
      "---\n",
      "categories:\n",
      "- tools\n",
      "date: '2020-10-21T21:27:08+11:00'\n",
      "image: /images/jabra85h.jpg\n",
      "title: Bluetooth Headphones in 2020\n",
      "---\n",
      "\n",
      "I've been looking for some bluetooth headphones that I can use both on a \n"
     ]
    }
   ],
   "source": [
    "print(frontmatter.dumps(frontmatter.Post(post.content, handler=frontmatter.YAMLHandler(), **post_meta))[:200])"
   ]
  },
  {
   "cell_type": "code",
   "execution_count": 23,
   "metadata": {},
   "outputs": [],
   "source": [
    "#export\n",
    "\n",
    "meta_map = {\n",
    "    'title': 'title',\n",
    "    'date': 'date',\n",
    "    'feature_image': 'image',\n",
    "    'tags': 'categories',\n",
    "    'draft': 'draft',\n",
    "}\n",
    "\n",
    "def post_hugo2quarto(post):\n",
    "    post_meta = {meta_map.get(k, k): v for k, v in dict(post).items()}\n",
    "    return frontmatter.Post(post.content, handler=frontmatter.YAMLHandler(), **post_meta)"
   ]
  },
  {
   "cell_type": "code",
   "execution_count": 24,
   "metadata": {},
   "outputs": [
    {
     "name": "stdout",
     "output_type": "stream",
     "text": [
      "---\n",
      "categories:\n",
      "- tools\n",
      "date: '2020-10-21T21:27:08+11:00'\n",
      "image: /images/jabra85h.jpg\n",
      "title: Bluetooth Headphones in 2020\n",
      "---\n",
      "\n",
      "I've been looking for some bluetooth headphones that I can use both on a \n"
     ]
    }
   ],
   "source": [
    "print(frontmatter.dumps(post_hugo2quarto(post))[:200])"
   ]
  },
  {
   "cell_type": "markdown",
   "metadata": {},
   "source": [
    "# Exporting"
   ]
  },
  {
   "cell_type": "code",
   "execution_count": 25,
   "metadata": {},
   "outputs": [
    {
     "data": {
      "text/plain": [
       "PosixPath('../data/content/post/2020-headphones.mmark')"
      ]
     },
     "execution_count": 25,
     "metadata": {},
     "output_type": "execute_result"
    }
   ],
   "source": [
    "path = post_paths[0]\n",
    "path"
   ]
  },
  {
   "cell_type": "code",
   "execution_count": 26,
   "metadata": {},
   "outputs": [
    {
     "data": {
      "text/plain": [
       "PosixPath('../output/2020-headphones')"
      ]
     },
     "execution_count": 26,
     "metadata": {},
     "output_type": "execute_result"
    }
   ],
   "source": [
    "output_path = output_dir / path.stem\n",
    "\n",
    "output_path"
   ]
  },
  {
   "cell_type": "markdown",
   "metadata": {},
   "source": [
    "Let's try an example"
   ]
  },
  {
   "cell_type": "code",
   "execution_count": 27,
   "metadata": {},
   "outputs": [],
   "source": [
    "output_path.mkdir()\n",
    "\n",
    "post = frontmatter.load(path)\n",
    "output_post = post_hugo2quarto(post)\n",
    "frontmatter.dump(output_post, output_path / 'index.md')"
   ]
  },
  {
   "cell_type": "code",
   "execution_count": 28,
   "metadata": {},
   "outputs": [
    {
     "name": "stdout",
     "output_type": "stream",
     "text": [
      "---\n",
      "categories:\n",
      "- tools\n",
      "date: '2020-10-21T21:27:08+11:00'\n",
      "image: /images/jabra85h.jpg\n",
      "title: Bluetooth Headphones in 2020\n",
      "---\n",
      "\n",
      "I've been looking for some bluetooth headphones that I can use both on a mobile phone and a computer at the same time.\n",
      "I want something portable enough to take with me, but comfortable enough to wear all day.\n"
     ]
    }
   ],
   "source": [
    "!head -n 10 {output_path}/index.md"
   ]
  },
  {
   "cell_type": "markdown",
   "metadata": {},
   "source": [
    "Clean up"
   ]
  },
  {
   "cell_type": "code",
   "execution_count": 29,
   "metadata": {},
   "outputs": [],
   "source": [
    "(output_path / 'index.md').unlink()\n",
    "output_path.rmdir()"
   ]
  },
  {
   "cell_type": "markdown",
   "metadata": {},
   "source": [
    "Put this together into a function"
   ]
  },
  {
   "cell_type": "code",
   "execution_count": 30,
   "metadata": {},
   "outputs": [],
   "source": [
    "#export\n",
    "def export_post(path, output_dir=output_dir):\n",
    "    output_path = output_dir / path.stem\n",
    "    output_path.mkdir()\n",
    "    post = frontmatter.load(path)\n",
    "    output_post = post_hugo2quarto(post)\n",
    "    frontmatter.dump(output_post, output_path / 'index.md')"
   ]
  },
  {
   "cell_type": "markdown",
   "metadata": {},
   "source": [
    "And export all the `.mmark` files"
   ]
  },
  {
   "cell_type": "code",
   "execution_count": 31,
   "metadata": {},
   "outputs": [],
   "source": [
    "for path in post_paths:\n",
    "    if path.suffix == '.mmark':\n",
    "        export_post(path)"
   ]
  },
  {
   "cell_type": "markdown",
   "metadata": {},
   "source": [
    "Also copy the static resources"
   ]
  },
  {
   "cell_type": "code",
   "execution_count": 32,
   "metadata": {},
   "outputs": [],
   "source": [
    "import shutil\n",
    "\n",
    "for folder in ['images', 'notebooks', 'resources', 'post']:\n",
    "    shutil.copytree((input_dir / \"static\") / folder, output_dir / folder)"
   ]
  }
 ],
 "metadata": {
  "kernelspec": {
   "display_name": "Python 3.10.6 ('.venv': venv)",
   "language": "python",
   "name": "python3"
  },
  "language_info": {
   "codemirror_mode": {
    "name": "ipython",
    "version": 3
   },
   "file_extension": ".py",
   "mimetype": "text/x-python",
   "name": "python",
   "nbconvert_exporter": "python",
   "pygments_lexer": "ipython3",
   "version": "3.10.6"
  },
  "orig_nbformat": 4,
  "vscode": {
   "interpreter": {
    "hash": "7257dfb195c594631ce9fb73d1b1aef0882845e7e9ef12f25eeeebe2d4cfc8b6"
   }
  }
 },
 "nbformat": 4,
 "nbformat_minor": 2
}
