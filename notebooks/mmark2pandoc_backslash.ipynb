{
 "cells": [
  {
   "cell_type": "markdown",
   "id": "a894ee6e",
   "metadata": {},
   "source": [
    "# Finding Unescaped Backslashes\n",
    "\n",
    "When doing some QA of the converted Pandoc I found that `dvi-by-example` had a `\\special` in paragraph text which ended up with a broken newline in the output.\n",
    "\n",
    "Let's find all instances of these using the DFA from `mmark2pandoc_math.ipynb`.\n",
    "\n",
    "## Imports"
   ]
  },
  {
   "cell_type": "code",
   "execution_count": 1,
   "id": "aac4aa87",
   "metadata": {},
   "outputs": [],
   "source": [
    "from dataclasses import dataclass\n",
    "from enum import Enum, auto\n",
    "from pathlib import Path\n",
    "import re\n",
    "from typing import Optional"
   ]
  },
  {
   "cell_type": "code",
   "execution_count": 2,
   "id": "af70bab4",
   "metadata": {},
   "outputs": [],
   "source": [
    "class Mode(Enum):\n",
    "    DEFAULT = auto()\n",
    "    INLINE_CODE = auto()\n",
    "    BLOCK_CODE = auto()\n",
    "    INLINE_MATH = auto()\n",
    "    BLOCK_MATH = auto()\n",
    "    INDENTED_CODE = auto()"
   ]
  },
  {
   "cell_type": "code",
   "execution_count": 3,
   "id": "d5cf4529",
   "metadata": {},
   "outputs": [],
   "source": [
    "@dataclass\n",
    "class Action:\n",
    "    input_mode: Mode\n",
    "    match_re: str\n",
    "    output_mode: Mode\n",
    "    output: Optional[str] = None\n",
    "\n",
    "    def __post_init__(self):\n",
    "        self.pattern = re.compile(self.match_re)\n",
    "\n",
    "    def match(self, s: str, idx: int = 0) -> Optional[str]:\n",
    "        match = self.pattern.match(s, idx)\n",
    "        if match:\n",
    "            match_str = match.group(0)\n",
    "            len_match_str = len(match_str)\n",
    "            assert len_match_str > 0\n",
    "            return {\"output\": self.output or match_str, \"size\": len_match_str}"
   ]
  },
  {
   "cell_type": "code",
   "execution_count": 4,
   "id": "1701e692",
   "metadata": {},
   "outputs": [],
   "source": [
    "ACTIONS = (\n",
    "    Action(Mode.DEFAULT, \"\\n```\", Mode.BLOCK_CODE),\n",
    "    Action(Mode.DEFAULT, \"`\", Mode.INLINE_CODE),\n",
    "    Action(Mode.DEFAULT, \"\\n\\$\\$ *\", Mode.BLOCK_MATH, \"\\n$$\"),\n",
    "    Action(Mode.DEFAULT, \"\\$\\$ *\", Mode.INLINE_MATH, \"$\"),\n",
    "    Action(Mode.DEFAULT, \"\\n    \", Mode.INDENTED_CODE),\n",
    "    Action(Mode.DEFAULT, \"\\$\", Mode.DEFAULT, \"\\$\"),\n",
    "    Action(Mode.BLOCK_CODE, \"```\", Mode.DEFAULT),\n",
    "    Action(Mode.INLINE_CODE, \"`\", Mode.DEFAULT),\n",
    "    Action(Mode.INLINE_MATH, \" *\\$\\$\", Mode.DEFAULT, \"$\"),\n",
    "    Action(Mode.BLOCK_MATH, \" *\\$\\$\", Mode.DEFAULT, \"$$\"),\n",
    "    Action(Mode.INDENTED_CODE, \"\\n {,3}\\S\", Mode.DEFAULT),\n",
    ")"
   ]
  },
  {
   "cell_type": "markdown",
   "id": "3e5cd846",
   "metadata": {},
   "source": [
    "## Parser\n",
    "\n",
    "Here we just want to find all backslash strings in normal mode; when we find one we will capture the whole backslash escaped string up to the next space."
   ]
  },
  {
   "cell_type": "code",
   "execution_count": 5,
   "id": "9bbb7ce5",
   "metadata": {},
   "outputs": [
    {
     "data": {
      "text/plain": [
       "<re.Match object; span=(0, 8), match='\\\\special'>"
      ]
     },
     "execution_count": 5,
     "metadata": {},
     "output_type": "execute_result"
    }
   ],
   "source": [
    "ESCAPED_PATTERN = re.compile(r'\\\\[^ ]*')\n",
    "\n",
    "ESCAPED_PATTERN.match('\\special and \\test')"
   ]
  },
  {
   "cell_type": "code",
   "execution_count": 6,
   "id": "cb98d59e",
   "metadata": {},
   "outputs": [],
   "source": [
    "def find_backslash_escapes(s):\n",
    "    mode = Mode.DEFAULT\n",
    "    idx = 0\n",
    "    output = []\n",
    "\n",
    "    while idx < len(s):\n",
    "        last_idx = idx\n",
    "        for action in ACTIONS:\n",
    "            if action.input_mode != mode:\n",
    "                continue\n",
    "            match = action.match(s, idx)\n",
    "            if match:\n",
    "                mode = action.output_mode\n",
    "                idx += match[\"size\"]\n",
    "                break\n",
    "        else:\n",
    "            if s[idx] == '\\\\' and mode == Mode.DEFAULT:\n",
    "                output.append(ESCAPED_PATTERN.match(s, idx).group(0))\n",
    "            idx += 1\n",
    "            \n",
    "\n",
    "        assert idx > last_idx, \"Infinite loop\"\n",
    "\n",
    "    return output"
   ]
  },
  {
   "cell_type": "markdown",
   "id": "8bcea4a4",
   "metadata": {},
   "source": [
    "Load in all the source data"
   ]
  },
  {
   "cell_type": "code",
   "execution_count": 7,
   "id": "91c14475",
   "metadata": {},
   "outputs": [
    {
     "data": {
      "text/plain": [
       "481"
      ]
     },
     "execution_count": 7,
     "metadata": {},
     "output_type": "execute_result"
    }
   ],
   "source": [
    "input_dir = Path('../data/content/post')\n",
    "extensions = ['mmark', 'md', 'Rmd']\n",
    "\n",
    "paths = [path for ext in extensions for path in input_dir.glob(f'*.{ext}')]\n",
    "len(paths)"
   ]
  },
  {
   "cell_type": "code",
   "execution_count": 8,
   "id": "6196f110",
   "metadata": {},
   "outputs": [],
   "source": [
    "results = {}\n",
    "\n",
    "for path in paths:\n",
    "    with open(path) as f:\n",
    "        data = find_backslash_escapes(f.read())\n",
    "        if data:\n",
    "            results[path] = data"
   ]
  },
  {
   "cell_type": "markdown",
   "id": "825bc325",
   "metadata": {},
   "source": [
    "There are only a few examples, and these can be manually fixed.\n",
    "\n",
    "One thing to note is that the markdown converted from Jupyter notebooks uses `\\\\[` and `\\\\]` for block code and `\\\\(` and `\\\\)` for inline code, and escapes all backslashes and underscores; this doesn't get rendered by Quarto.\n",
    "Since there's only a few examples we can manually clean them up too."
   ]
  },
  {
   "cell_type": "code",
   "execution_count": 9,
   "id": "0a105ee5",
   "metadata": {},
   "outputs": [
    {
     "data": {
      "text/plain": [
       "{PosixPath('../data/content/post/ngram-sentence-boundaries.mmark'): ['\\\\|',\n",
       "  '\\\\|'],\n",
       " PosixPath('../data/content/post/dvi-by-example.mmark'): ['\\\\count{0-9}',\n",
       "  '\\\\special.</td>\\n</tr>\\n<tr>\\n<td>{F3-F5}</td>\\n<td>fnt_def{1-3}</td>\\n<td>i[{1-3}]',\n",
       "  '\\\\count0',\n",
       "  '\\\\count0',\n",
       "  '\\\\count{1-9}=0.',\n",
       "  '\\\\special{})'],\n",
       " PosixPath('../data/content/post/_ideas.mmark'): ['\\\\\\nhead',\n",
       "  '\\\\\\ncut',\n",
       "  \"\\\\t'\",\n",
       "  '\\\\\\nsort',\n",
       "  '\\\\\\nuniq',\n",
       "  '\\\\\\nsort',\n",
       "  '\\\\\\nsed',\n",
       "  '\\\\\\nawk',\n",
       "  '\\\\\\nhead\\n\\n#'],\n",
       " PosixPath('../data/content/post/history-of-integration.mmark'): ['\\\\A'],\n",
       " PosixPath('../data/content/post/export-athena.mmark'): [\"\\\\n',\",\n",
       "  \"\\\\\\\\')\",\n",
       "  \"\\\\')\",\n",
       "  \"\\\\N'),\"],\n",
       " PosixPath('../data/content/post/latex-multiple-equations.mmark'): ['\\\\…”',\n",
       "  '\\\\sin(x)},'],\n",
       " PosixPath('../data/content/post/prior-regularise.mmark'): ['\\\\epsilon$'],\n",
       " PosixPath('../data/content/post/normalising-salary.mmark'): ['\\\\%20Salary\\\\%20Extracted\\\\%20From\\\\%20CommonCrawl\\\\%20Job\\\\%20Data.html)',\n",
       "  '\\\\%20Extracted\\\\%20From\\\\%20CommonCrawl\\\\%20Job\\\\%20Data.html)',\n",
       "  '\\\\%20From\\\\%20CommonCrawl\\\\%20Job\\\\%20Data.html)',\n",
       "  '\\\\%20CommonCrawl\\\\%20Job\\\\%20Data.html)',\n",
       "  '\\\\%20Job\\\\%20Data.html)',\n",
       "  '\\\\%20Data.html)',\n",
       "  '\\\\%20Salary\\\\%20Extracted\\\\%20From\\\\%20CommonCrawl\\\\%20Job\\\\%20Data.ipynb)).\\n',\n",
       "  '\\\\%20Extracted\\\\%20From\\\\%20CommonCrawl\\\\%20Job\\\\%20Data.ipynb)).\\n',\n",
       "  '\\\\%20From\\\\%20CommonCrawl\\\\%20Job\\\\%20Data.ipynb)).\\n',\n",
       "  '\\\\%20CommonCrawl\\\\%20Job\\\\%20Data.ipynb)).\\n',\n",
       "  '\\\\%20Job\\\\%20Data.ipynb)).\\n',\n",
       "  '\\\\%20Data.ipynb)).\\n'],\n",
       " PosixPath('../data/content/post/building-layered-api-with-fashion-mnist.md'): ['\\\\\\\\(\\\\\\\\sqrt{2/n\\\\_l}\\\\\\\\).',\n",
       "  '\\\\(\\\\\\\\sqrt{2/n\\\\_l}\\\\\\\\).',\n",
       "  '\\\\\\\\sqrt{2/n\\\\_l}\\\\\\\\).',\n",
       "  '\\\\sqrt{2/n\\\\_l}\\\\\\\\).',\n",
       "  '\\\\_l}\\\\\\\\).',\n",
       "  '\\\\\\\\).',\n",
       "  '\\\\).'],\n",
       " PosixPath('../data/content/post/fashion-mnist-with-prototype-methods.md'): [\"\\\\t').set_index('Label')['Description']\\n```\\n\\nWe\"],\n",
       " PosixPath('../data/content/post/calculate-centroid-on-sphere.md'): ['\\\\\\\\[',\n",
       "  '\\\\[',\n",
       "  '\\\\\\\\sum\\\\_{i=1}^{N}',\n",
       "  '\\\\sum\\\\_{i=1}^{N}',\n",
       "  '\\\\_{i=1}^{N}',\n",
       "  '\\\\\\\\frac{p\\\\_i}{\\\\\\\\sqrt{1',\n",
       "  '\\\\frac{p\\\\_i}{\\\\\\\\sqrt{1',\n",
       "  '\\\\_i}{\\\\\\\\sqrt{1',\n",
       "  '\\\\\\\\sqrt{1',\n",
       "  '\\\\sqrt{1',\n",
       "  '\\\\\\\\cdot',\n",
       "  '\\\\cdot',\n",
       "  '\\\\_i)^2}}',\n",
       "  '\\\\\\\\]\\n\\nWe',\n",
       "  '\\\\]\\n\\nWe']}"
      ]
     },
     "execution_count": 9,
     "metadata": {},
     "output_type": "execute_result"
    }
   ],
   "source": [
    "results"
   ]
  }
 ],
 "metadata": {
  "kernelspec": {
   "display_name": "Python 3 (ipykernel)",
   "language": "python",
   "name": "python3"
  },
  "language_info": {
   "codemirror_mode": {
    "name": "ipython",
    "version": 3
   },
   "file_extension": ".py",
   "mimetype": "text/x-python",
   "name": "python",
   "nbconvert_exporter": "python",
   "pygments_lexer": "ipython3",
   "version": "3.8.15"
  }
 },
 "nbformat": 4,
 "nbformat_minor": 5
}
